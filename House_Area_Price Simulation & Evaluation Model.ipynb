{
 "cells": [
  {
   "cell_type": "code",
   "execution_count": 1,
   "metadata": {},
   "outputs": [
    {
     "name": "stdout",
     "output_type": "stream",
     "text": [
      "[7891 3703 7179 ... 5423 6183 3859]\n"
     ]
    }
   ],
   "source": [
    "import numpy as np\n",
    "\n",
    "np.random.seed(18)\n",
    "sqft = np.random.randint(650, 2000, 2000).astype(np.int64)\n",
    "price = sqft * 2 + np.random.normal(0, 300, 2000)\n",
    "w = 4\n",
    "b = 3\n",
    "\n",
    "pred_price = b + w*sqft\n",
    "print (pred_price) #pre_price is the predicted price of the house price."
   ]
  },
  {
   "cell_type": "code",
   "execution_count": 2,
   "metadata": {},
   "outputs": [
    {
     "name": "stdout",
     "output_type": "stream",
     "text": [
      "[-3432.70517144 -1538.02947827 -3702.63508217 ... -2708.43732401\n",
      " -3350.52156287 -2043.66312071]\n"
     ]
    }
   ],
   "source": [
    "p0 = np.array(price)\n",
    "p1 = np.array(pred_price)\n",
    "gap = p0 - p1\n",
    "print(gap)\n"
   ]
  },
  {
   "cell_type": "code",
   "execution_count": 3,
   "metadata": {},
   "outputs": [
    {
     "name": "stdout",
     "output_type": "stream",
     "text": [
      "MSE is: 7580917.058919065\n"
     ]
    }
   ],
   "source": [
    "from sklearn.metrics import mean_squared_error\n",
    "print (\"MSE is:\", mean_squared_error(p0, p1)) #Calculation of the MSE"
   ]
  },
  {
   "cell_type": "code",
   "execution_count": 4,
   "metadata": {},
   "outputs": [
    {
     "name": "stdout",
     "output_type": "stream",
     "text": [
      "MAE is: 2626.0816803354774\n"
     ]
    }
   ],
   "source": [
    "from sklearn.metrics import median_absolute_error\n",
    "print(\"MAE is:\", median_absolute_error(p0, p1))"
   ]
  },
  {
   "cell_type": "code",
   "execution_count": 7,
   "metadata": {},
   "outputs": [],
   "source": [
    "#write in the generated data and store them in csv file for furtehr analysis\n",
    "\n",
    "import matplotlib.pyplot as plt\n",
    "import numpy as np\n",
    "import pandas as pd\n",
    "from sklearn import datasets, linear_model\n",
    "\n",
    "import csv\n",
    "\n",
    "\n",
    "sqft = np.random.randint(650, 2000, 2000).astype(np.int64)\n",
    "price = sqft * 2 + np.random.normal(0, 300, 2000)\n",
    "\n",
    "csvfile = open('the_input_data.csv', 'w')\n",
    "writer = csv.writer(csvfile)\n",
    "writer.writerow(['sqft','price'])\n",
    "data = list(zip(sqft, price))\n",
    "writer.writerows(data)\n",
    "csvfile.close()\n"
   ]
  },
  {
   "cell_type": "code",
   "execution_count": 11,
   "metadata": {},
   "outputs": [],
   "source": [
    "from pandas import read_csv\n",
    "data = read_csv('file:///Users/llately/Desktop/上课/2019fall/6574/HW/hw2/the_input_data.csv', encoding = 'GBK')\n",
    "# to test the homework you can download the csv file that named\"input_file\" that I will attach to the blackboard, you can change the address when running thr code"
   ]
  },
  {
   "cell_type": "code",
   "execution_count": 12,
   "metadata": {},
   "outputs": [
    {
     "data": {
      "text/plain": [
       "<matplotlib.collections.PathCollection at 0x1a1a239b70>"
      ]
     },
     "execution_count": 12,
     "metadata": {},
     "output_type": "execute_result"
    },
    {
     "data": {
      "image/png": "[encoded data removed]",
      "text/plain": [
       "<Figure size 432x288 with 1 Axes>"
      ]
     },
     "metadata": {
      "needs_background": "light"
     },
     "output_type": "display_data"
    }
   ],
   "source": [
    "#draw plot figure:\n",
    "plt.scatter(data.sqft, data.price)"
   ]
  },
  {
   "cell_type": "code",
   "execution_count": 13,
   "metadata": {},
   "outputs": [
    {
     "data": {
      "text/html": [
       "<div>\n",
       "<style scoped>\n",
       "    .dataframe tbody tr th:only-of-type {\n",
       "        vertical-align: middle;\n",
       "    }\n",
       "\n",
       "    .dataframe tbody tr th {\n",
       "        vertical-align: top;\n",
       "    }\n",
       "\n",
       "    .dataframe thead th {\n",
       "        text-align: right;\n",
       "    }\n",
       "</style>\n",
       "<table border=\"1\" class=\"dataframe\">\n",
       "  <thead>\n",
       "    <tr style=\"text-align: right;\">\n",
       "      <th></th>\n",
       "      <th>sqft</th>\n",
       "      <th>price</th>\n",
       "    </tr>\n",
       "  </thead>\n",
       "  <tbody>\n",
       "    <tr>\n",
       "      <th>sqft</th>\n",
       "      <td>1.000000</td>\n",
       "      <td>0.934937</td>\n",
       "    </tr>\n",
       "    <tr>\n",
       "      <th>price</th>\n",
       "      <td>0.934937</td>\n",
       "      <td>1.000000</td>\n",
       "    </tr>\n",
       "  </tbody>\n",
       "</table>\n",
       "</div>"
      ],
      "text/plain": [
       "           sqft     price\n",
       "sqft   1.000000  0.934937\n",
       "price  0.934937  1.000000"
      ]
     },
     "execution_count": 13,
     "metadata": {},
     "output_type": "execute_result"
    }
   ],
   "source": [
    "data.corr()"
   ]
  },
  {
   "cell_type": "code",
   "execution_count": 15,
   "metadata": {},
   "outputs": [
    {
     "data": {
      "text/plain": [
       "0.8741072484044861"
      ]
     },
     "execution_count": 15,
     "metadata": {},
     "output_type": "execute_result"
    }
   ],
   "source": [
    "from sklearn import linear_model\n",
    "from sklearn.linear_model import LinearRegression\n",
    "\n",
    "lrModel = LinearRegression()\n",
    "x = data[['sqft']]\n",
    "y = data[['price']]\n",
    "#train the model\n",
    "lrModel.fit(x,y)\n",
    "lrModel.score(x,y)#test reliability\n",
    "#0.86 is a high score, suggesting that we can use this model to predict the price"
   ]
  },
  {
   "cell_type": "code",
   "execution_count": 16,
   "metadata": {},
   "outputs": [
    {
     "data": {
      "text/plain": [
       "377.9217888250216"
      ]
     },
     "execution_count": 16,
     "metadata": {},
     "output_type": "execute_result"
    }
   ],
   "source": [
    "#to look up to the intercept：\n",
    "import numpy as np\n",
    "b = lrModel.intercept_[0] \n",
    "weight = lrModel.coef_[0][0]\n",
    "b + weight*np.array([200][0]) #when the house is 200 sqft, tell the parameters"
   ]
  },
  {
   "cell_type": "code",
   "execution_count": 17,
   "metadata": {},
   "outputs": [
    {
     "name": "stdout",
     "output_type": "stream",
     "text": [
      "-26.94279727800722\n",
      "2.0243229305151442\n"
     ]
    }
   ],
   "source": [
    "print (b)\n",
    "print (weight)"
   ]
  },
  {
   "cell_type": "code",
   "execution_count": null,
   "metadata": {},
   "outputs": [],
   "source": [
    "#by running the code above, it is easy to visualize the relationship between the house area and house price. \n",
    "#by calculating the reliability, the testing model is solid to measure the simulated house area and house price."
   ]
  }
 ],
 "metadata": {
  "kernelspec": {
   "display_name": "Python 3",
   "language": "python",
   "name": "python3"
  },
  "language_info": {
   "codemirror_mode": {
    "name": "ipython",
    "version": 3
   },
   "file_extension": ".py",
   "mimetype": "text/x-python",
   "name": "python",
   "nbconvert_exporter": "python",
   "pygments_lexer": "ipython3",
   "version": "3.7.3"
  }
 },
 "nbformat": 4,
 "nbformat_minor": 2
}
